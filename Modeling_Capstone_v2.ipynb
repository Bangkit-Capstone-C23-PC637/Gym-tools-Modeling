{
  "cells": [
    {
      "cell_type": "code",
      "execution_count": 1,
      "metadata": {
        "id": "x2WZkS54TF7M"
      },
      "outputs": [],
      "source": [
        "import tensorflow as tf\n",
        "from tensorflow.keras.applications import VGG16\n",
        "from tensorflow.keras.layers import Dense, GlobalAveragePooling2D\n",
        "from tensorflow.keras.models import Model\n",
        "from tensorflow.keras.preprocessing.image import ImageDataGenerator\n",
        "import os\n",
        "import zipfile"
      ]
    },
    {
      "cell_type": "code",
      "execution_count": 2,
      "metadata": {
        "colab": {
          "base_uri": "https://localhost:8080/"
        },
        "id": "HSPPTzLNQtAd",
        "outputId": "bec2760f-b382-45e6-afbe-19552ebb096b"
      },
      "outputs": [
        {
          "name": "stdout",
          "output_type": "stream",
          "text": [
            "Looking in indexes: https://pypi.org/simple, https://us-python.pkg.dev/colab-wheels/public/simple/\n",
            "Requirement already satisfied: kaggle in /usr/local/lib/python3.10/dist-packages (1.5.13)\n",
            "Requirement already satisfied: six>=1.10 in /usr/local/lib/python3.10/dist-packages (from kaggle) (1.16.0)\n",
            "Requirement already satisfied: certifi in /usr/local/lib/python3.10/dist-packages (from kaggle) (2022.12.7)\n",
            "Requirement already satisfied: python-dateutil in /usr/local/lib/python3.10/dist-packages (from kaggle) (2.8.2)\n",
            "Requirement already satisfied: requests in /usr/local/lib/python3.10/dist-packages (from kaggle) (2.27.1)\n",
            "Requirement already satisfied: tqdm in /usr/local/lib/python3.10/dist-packages (from kaggle) (4.65.0)\n",
            "Requirement already satisfied: python-slugify in /usr/local/lib/python3.10/dist-packages (from kaggle) (8.0.1)\n",
            "Requirement already satisfied: urllib3 in /usr/local/lib/python3.10/dist-packages (from kaggle) (1.26.15)\n",
            "Requirement already satisfied: text-unidecode>=1.3 in /usr/local/lib/python3.10/dist-packages (from python-slugify->kaggle) (1.3)\n",
            "Requirement already satisfied: charset-normalizer~=2.0.0 in /usr/local/lib/python3.10/dist-packages (from requests->kaggle) (2.0.12)\n",
            "Requirement already satisfied: idna<4,>=2.5 in /usr/local/lib/python3.10/dist-packages (from requests->kaggle) (3.4)\n"
          ]
        }
      ],
      "source": [
        "! pip install kaggle"
      ]
    },
    {
      "cell_type": "code",
      "execution_count": 3,
      "metadata": {
        "id": "zzCsmNQ_SvrU"
      },
      "outputs": [],
      "source": [
        "! mkdir ~/.kaggle"
      ]
    },
    {
      "cell_type": "code",
      "execution_count": 4,
      "metadata": {
        "id": "FRoChn22SzML"
      },
      "outputs": [],
      "source": [
        "! cp kaggle.json ~/.kaggle/"
      ]
    },
    {
      "cell_type": "code",
      "execution_count": 5,
      "metadata": {
        "id": "fpNdVXEZS0_q"
      },
      "outputs": [],
      "source": [
        "! chmod 600 ~/.kaggle/kaggle.json"
      ]
    },
    {
      "cell_type": "code",
      "execution_count": 6,
      "metadata": {
        "colab": {
          "base_uri": "https://localhost:8080/"
        },
        "id": "vOgVSm2lS24z",
        "outputId": "dec64e05-b6c0-4aea-9b58-b0d3ce48f148"
      },
      "outputs": [
        {
          "name": "stdout",
          "output_type": "stream",
          "text": [
            "Downloading gym-tools.zip to /content\n",
            " 96% 25.0M/26.1M [00:02<00:00, 11.3MB/s]\n",
            "100% 26.1M/26.1M [00:02<00:00, 13.1MB/s]\n"
          ]
        }
      ],
      "source": [
        "! kaggle datasets download -d teguhbudi/gym-tools "
      ]
    },
    {
      "cell_type": "code",
      "execution_count": 7,
      "metadata": {
        "id": "xbDlw8_qTOSd"
      },
      "outputs": [],
      "source": [
        "local_zip = '/content/gym-tools.zip'\n",
        "zip_ref   = zipfile.ZipFile(local_zip, 'r')\n",
        "zip_ref.extractall('/content/data')\n",
        "zip_ref.close()"
      ]
    },
    {
      "cell_type": "code",
      "execution_count": 17,
      "metadata": {
        "colab": {
          "base_uri": "https://localhost:8080/"
        },
        "id": "5Y5tt5ZuUqkK",
        "outputId": "db2cf788-4fcb-4c9c-e141-0d6f0d33cbc2"
      },
      "outputs": [
        {
          "name": "stdout",
          "output_type": "stream",
          "text": [
            "Found 439 images belonging to 10 classes.\n",
            "Found 59 images belonging to 10 classes.\n"
          ]
        }
      ],
      "source": [
        "TRAINING_DIR = \"/content/data/training\"\n",
        "VALIDATION_DIR = \"/content/data/testing\"\n",
        "# Experiment with your own parameters here to really try to drive it to 99.9% accuracy or better\n",
        "train_datagen = ImageDataGenerator(rescale=1./255,\n",
        "                                    rotation_range=30,      # Rentang rotasi dalam derajat\n",
        "                                    width_shift_range=0.2,  # Jarak pergeseran horizontal dalam fraksi dari lebar gambar\n",
        "                                    height_shift_range=0.2, # Jarak pergeseran vertikal dalam fraksi dari tinggi gambar\n",
        "                                    zoom_range=0.2,         # Rentang zoom dalam fraksi\n",
        "                                    horizontal_flip=True,   # Menerapkan pemutaran horizontal acak\n",
        "                                   )\n",
        "train_generator = train_datagen.flow_from_directory(TRAINING_DIR,\n",
        "                                                    batch_size=32,\n",
        "                                                    class_mode='categorical',\n",
        "                                                    target_size=(160, 160))\n",
        "\n",
        "validation_datagen = ImageDataGenerator(rescale=1./255)\n",
        "validation_generator = validation_datagen.flow_from_directory(VALIDATION_DIR,\n",
        "                                                    batch_size=32,\n",
        "                                                    class_mode='categorical',\n",
        "                                                    target_size=(160, 160))"
      ]
    },
    {
      "cell_type": "code",
      "execution_count": 18,
      "metadata": {
        "colab": {
          "base_uri": "https://localhost:8080/"
        },
        "id": "Lh-Df7TAKYKD",
        "outputId": "5b48f1e9-eda7-4cc0-f304-cb8c239b563e"
      },
      "outputs": [
        {
          "name": "stdout",
          "output_type": "stream",
          "text": [
            "Downloading data from https://storage.googleapis.com/tensorflow/keras-applications/mobilenet_v2/mobilenet_v2_weights_tf_dim_ordering_tf_kernels_1.0_160_no_top.h5\n",
            "9406464/9406464 [==============================] - 1s 0us/step\n"
          ]
        }
      ],
      "source": [
        "base_model = tf.keras.applications.mobilenet_v2.MobileNetV2(weights = 'imagenet', include_top = False, input_shape =(160, 160, 3))"
      ]
    },
    {
      "cell_type": "code",
      "execution_count": 19,
      "metadata": {
        "id": "8dCoaKghMEWG"
      },
      "outputs": [],
      "source": [
        "base_model.trainable = False"
      ]
    },
    {
      "cell_type": "code",
      "execution_count": 58,
      "metadata": {
        "id": "adi1nCN6UK2P"
      },
      "outputs": [],
      "source": [
        "model = tf.keras.Sequential([\n",
        "    base_model,\n",
        "    tf.keras.layers.MaxPooling2D(2,2),\n",
        "    tf.keras.layers.Flatten(),\n",
        "    tf.keras.layers.Dense(512, activation='relu'),\n",
        "    tf.keras.layers.Dense(10, activation='softmax')\n",
        "])\n"
      ]
    },
    {
      "cell_type": "code",
      "execution_count": 59,
      "metadata": {
        "colab": {
          "base_uri": "https://localhost:8080/"
        },
        "id": "4oqiBsag8aSQ",
        "outputId": "574fb417-fca3-4c92-f7c2-f525efe64e8b"
      },
      "outputs": [
        {
          "name": "stdout",
          "output_type": "stream",
          "text": [
            "Model: \"sequential_7\"\n",
            "_________________________________________________________________\n",
            " Layer (type)                Output Shape              Param #   \n",
            "=================================================================\n",
            " mobilenetv2_1.00_160 (Funct  (None, 5, 5, 1280)       2257984   \n",
            " ional)                                                          \n",
            "                                                                 \n",
            " max_pooling2d_7 (MaxPooling  (None, 2, 2, 1280)       0         \n",
            " 2D)                                                             \n",
            "                                                                 \n",
            " flatten_7 (Flatten)         (None, 5120)              0         \n",
            "                                                                 \n",
            " dense_35 (Dense)            (None, 512)               2621952   \n",
            "                                                                 \n",
            " dense_36 (Dense)            (None, 10)                5130      \n",
            "                                                                 \n",
            "=================================================================\n",
            "Total params: 4,885,066\n",
            "Trainable params: 2,627,082\n",
            "Non-trainable params: 2,257,984\n",
            "_________________________________________________________________\n"
          ]
        }
      ],
      "source": [
        "model.summary()"
      ]
    },
    {
      "cell_type": "code",
      "execution_count": 62,
      "metadata": {
        "id": "oVDJADWBVa5P"
      },
      "outputs": [],
      "source": [
        "model.compile(optimizer=tf.keras.optimizers.Adam(learning_rate =0.0001), loss='categorical_crossentropy', metrics=['accuracy'])"
      ]
    },
    {
      "cell_type": "code",
      "execution_count": 64,
      "metadata": {
        "id": "amEuhffwccgp"
      },
      "outputs": [],
      "source": [
        "class myCallback(tf.keras.callbacks.Callback):\n",
        "    def set_model(self, model):\n",
        "        self.model = model\n",
        "\n",
        "    def on_epoch_end(self, epoch, logs=None):\n",
        "        if logs['val_loss'] < 0.15:\n",
        "                self.model.stop_training = True\n",
        "\n",
        "my_callback = myCallback()"
      ]
    },
    {
      "cell_type": "code",
      "execution_count": 66,
      "metadata": {
        "colab": {
          "base_uri": "https://localhost:8080/"
        },
        "id": "8JBqZbEeVeH4",
        "outputId": "b3c14d1b-3810-46d8-8181-59ce6eccc31c"
      },
      "outputs": [
        {
          "name": "stdout",
          "output_type": "stream",
          "text": [
            "Epoch 1/10\n",
            "14/14 [==============================] - 17s 1s/step - loss: 0.0220 - accuracy: 0.9932 - val_loss: 0.2772 - val_accuracy: 0.9322\n",
            "Epoch 2/10\n",
            "14/14 [==============================] - 17s 1s/step - loss: 0.0191 - accuracy: 0.9909 - val_loss: 0.4870 - val_accuracy: 0.8983\n",
            "Epoch 3/10\n",
            "14/14 [==============================] - 16s 1s/step - loss: 0.0442 - accuracy: 0.9841 - val_loss: 0.4129 - val_accuracy: 0.8814\n",
            "Epoch 4/10\n",
            "14/14 [==============================] - 16s 1s/step - loss: 0.0354 - accuracy: 0.9863 - val_loss: 0.4903 - val_accuracy: 0.8475\n",
            "Epoch 5/10\n",
            "14/14 [==============================] - 16s 1s/step - loss: 0.0136 - accuracy: 0.9954 - val_loss: 0.3807 - val_accuracy: 0.8814\n",
            "Epoch 6/10\n",
            "14/14 [==============================] - 16s 1s/step - loss: 0.0119 - accuracy: 0.9977 - val_loss: 0.4173 - val_accuracy: 0.8814\n",
            "Epoch 7/10\n",
            "14/14 [==============================] - 15s 1s/step - loss: 0.0205 - accuracy: 0.9954 - val_loss: 0.3028 - val_accuracy: 0.9153\n",
            "Epoch 8/10\n",
            "14/14 [==============================] - 16s 1s/step - loss: 0.0153 - accuracy: 0.9977 - val_loss: 0.1807 - val_accuracy: 0.9661\n",
            "Epoch 9/10\n",
            "14/14 [==============================] - 16s 1s/step - loss: 0.0175 - accuracy: 0.9932 - val_loss: 0.2377 - val_accuracy: 0.8983\n",
            "Epoch 10/10\n",
            "14/14 [==============================] - 17s 1s/step - loss: 0.0113 - accuracy: 0.9977 - val_loss: 0.1732 - val_accuracy: 0.9661\n"
          ]
        }
      ],
      "source": [
        "history = model.fit(train_generator, epochs=10,\n",
        "                    validation_data=validation_generator,\n",
        "                    callbacks=[my_callback])\n"
      ]
    },
    {
      "cell_type": "code",
      "execution_count": 93,
      "metadata": {
        "id": "V0Y1yjoRJOxH"
      },
      "outputs": [],
      "source": [
        "model.save('something_v2.h5')"
      ]
    }
  ],
  "metadata": {
    "colab": {
      "provenance": []
    },
    "kernelspec": {
      "display_name": "Python 3",
      "name": "python3"
    },
    "language_info": {
      "name": "python"
    }
  },
  "nbformat": 4,
  "nbformat_minor": 0
}
