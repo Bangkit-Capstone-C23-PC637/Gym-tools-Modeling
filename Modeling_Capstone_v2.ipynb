{
  "cells": [
    {
      "cell_type": "code",
      "execution_count": null,
      "metadata": {
        "id": "z4zY1p-cStHA"
      },
      "outputs": [],
      "source": [
        "# import shutil"
      ]
    },
    {
      "cell_type": "code",
      "execution_count": null,
      "metadata": {
        "id": "M6X_y6j222gQ"
      },
      "outputs": [],
      "source": [
        "# shutil.rmtree('/content/.config')"
      ]
    },
    {
      "cell_type": "code",
      "execution_count": 1,
      "metadata": {
        "id": "x2WZkS54TF7M"
      },
      "outputs": [],
      "source": [
        "import tensorflow as tf\n",
        "from tensorflow.keras.applications import VGG16\n",
        "from tensorflow.keras.layers import Dense, GlobalAveragePooling2D\n",
        "from tensorflow.keras.models import Model\n",
        "from tensorflow.keras.preprocessing.image import ImageDataGenerator\n",
        "import os\n",
        "import zipfile"
      ]
    },
    {
      "cell_type": "code",
      "execution_count": 2,
      "metadata": {
        "colab": {
          "base_uri": "https://localhost:8080/"
        },
        "id": "HSPPTzLNQtAd",
        "outputId": "bec2760f-b382-45e6-afbe-19552ebb096b"
      },
      "outputs": [
        {
          "output_type": "stream",
          "name": "stdout",
          "text": [
            "Looking in indexes: https://pypi.org/simple, https://us-python.pkg.dev/colab-wheels/public/simple/\n",
            "Requirement already satisfied: kaggle in /usr/local/lib/python3.10/dist-packages (1.5.13)\n",
            "Requirement already satisfied: six>=1.10 in /usr/local/lib/python3.10/dist-packages (from kaggle) (1.16.0)\n",
            "Requirement already satisfied: certifi in /usr/local/lib/python3.10/dist-packages (from kaggle) (2022.12.7)\n",
            "Requirement already satisfied: python-dateutil in /usr/local/lib/python3.10/dist-packages (from kaggle) (2.8.2)\n",
            "Requirement already satisfied: requests in /usr/local/lib/python3.10/dist-packages (from kaggle) (2.27.1)\n",
            "Requirement already satisfied: tqdm in /usr/local/lib/python3.10/dist-packages (from kaggle) (4.65.0)\n",
            "Requirement already satisfied: python-slugify in /usr/local/lib/python3.10/dist-packages (from kaggle) (8.0.1)\n",
            "Requirement already satisfied: urllib3 in /usr/local/lib/python3.10/dist-packages (from kaggle) (1.26.15)\n",
            "Requirement already satisfied: text-unidecode>=1.3 in /usr/local/lib/python3.10/dist-packages (from python-slugify->kaggle) (1.3)\n",
            "Requirement already satisfied: charset-normalizer~=2.0.0 in /usr/local/lib/python3.10/dist-packages (from requests->kaggle) (2.0.12)\n",
            "Requirement already satisfied: idna<4,>=2.5 in /usr/local/lib/python3.10/dist-packages (from requests->kaggle) (3.4)\n"
          ]
        }
      ],
      "source": [
        "! pip install kaggle"
      ]
    },
    {
      "cell_type": "code",
      "execution_count": 3,
      "metadata": {
        "id": "zzCsmNQ_SvrU"
      },
      "outputs": [],
      "source": [
        "! mkdir ~/.kaggle"
      ]
    },
    {
      "cell_type": "code",
      "execution_count": 4,
      "metadata": {
        "id": "FRoChn22SzML"
      },
      "outputs": [],
      "source": [
        "! cp kaggle.json ~/.kaggle/"
      ]
    },
    {
      "cell_type": "code",
      "execution_count": 5,
      "metadata": {
        "id": "fpNdVXEZS0_q"
      },
      "outputs": [],
      "source": [
        "! chmod 600 ~/.kaggle/kaggle.json"
      ]
    },
    {
      "cell_type": "code",
      "execution_count": 6,
      "metadata": {
        "colab": {
          "base_uri": "https://localhost:8080/"
        },
        "id": "vOgVSm2lS24z",
        "outputId": "dec64e05-b6c0-4aea-9b58-b0d3ce48f148"
      },
      "outputs": [
        {
          "output_type": "stream",
          "name": "stdout",
          "text": [
            "Downloading gym-tools.zip to /content\n",
            " 96% 25.0M/26.1M [00:02<00:00, 11.3MB/s]\n",
            "100% 26.1M/26.1M [00:02<00:00, 13.1MB/s]\n"
          ]
        }
      ],
      "source": [
        "! kaggle datasets download -d teguhbudi/gym-tools "
      ]
    },
    {
      "cell_type": "code",
      "execution_count": 7,
      "metadata": {
        "id": "xbDlw8_qTOSd"
      },
      "outputs": [],
      "source": [
        "local_zip = '/content/gym-tools.zip'\n",
        "zip_ref   = zipfile.ZipFile(local_zip, 'r')\n",
        "zip_ref.extractall('/content/data')\n",
        "zip_ref.close()"
      ]
    },
    {
      "cell_type": "code",
      "execution_count": null,
      "metadata": {
        "id": "8F-H9fKx3k2E"
      },
      "outputs": [],
      "source": [
        "\n",
        "# from PIL import Image\n",
        "# folder_path = '/content/data/training'\n",
        "# extensions = []\n",
        "# for fldr in os.listdir(folder_path):\n",
        "#     sub_folder_path = os.path.join(folder_path, fldr)\n",
        "#     for filee in os.listdir(sub_folder_path):\n",
        "#         file_path = os.path.join(sub_folder_path, filee)\n",
        "#         print('** Path: {}  **'.format(file_path), end=\"\\r\", flush=True)\n",
        "#         im = Image.open(file_path)\n",
        "#         rgb_im = im.convert('RGB')\n",
        "#         if filee.split('.')[1] not in extensions:\n",
        "#             extensions.append(filee.split('.')[1])\n",
        "    "
      ]
    },
    {
      "cell_type": "code",
      "execution_count": null,
      "metadata": {
        "id": "x7g_dGCd_J0H"
      },
      "outputs": [],
      "source": [
        "# !rm /content/data/Treadmill/treadmill-1.jpeg"
      ]
    },
    {
      "cell_type": "code",
      "execution_count": null,
      "metadata": {
        "id": "5Baj6FfM9kgp"
      },
      "outputs": [],
      "source": [
        "# rmdir /content/data/Dataset Gym Tools/Dataset Gym Tools/Dumbell/.ipynb_checkpointspoints"
      ]
    },
    {
      "cell_type": "code",
      "execution_count": null,
      "metadata": {
        "id": "5T75d4NTUIH3"
      },
      "outputs": [],
      "source": [
        "# Mengimpor model pre-trained (misalnya, VGG16)\n",
        "# base_model = VGG16(weights='imagenet', include_top=False, input_shape=(150, 150, 3))"
      ]
    },
    {
      "cell_type": "code",
      "execution_count": 9,
      "metadata": {
        "id": "UqbyKbtMUiPQ"
      },
      "outputs": [],
      "source": [
        "# # Membekukan lapisan-lapisan yang sudah dilatih pada model base\n",
        "# for layer in base_model.layers:\n",
        "#     layer.trainable = False\n"
      ]
    },
    {
      "cell_type": "code",
      "execution_count": 17,
      "metadata": {
        "colab": {
          "base_uri": "https://localhost:8080/"
        },
        "id": "5Y5tt5ZuUqkK",
        "outputId": "db2cf788-4fcb-4c9c-e141-0d6f0d33cbc2"
      },
      "outputs": [
        {
          "output_type": "stream",
          "name": "stdout",
          "text": [
            "Found 439 images belonging to 10 classes.\n",
            "Found 59 images belonging to 10 classes.\n"
          ]
        }
      ],
      "source": [
        "TRAINING_DIR = \"/content/data/training\"\n",
        "VALIDATION_DIR = \"/content/data/testing\"\n",
        "# Experiment with your own parameters here to really try to drive it to 99.9% accuracy or better\n",
        "train_datagen = ImageDataGenerator(rescale=1./255,\n",
        "                                    rotation_range=30,      # Rentang rotasi dalam derajat\n",
        "                                    width_shift_range=0.2,  # Jarak pergeseran horizontal dalam fraksi dari lebar gambar\n",
        "                                    height_shift_range=0.2, # Jarak pergeseran vertikal dalam fraksi dari tinggi gambar\n",
        "                                    zoom_range=0.2,         # Rentang zoom dalam fraksi\n",
        "                                    horizontal_flip=True,   # Menerapkan pemutaran horizontal acak\n",
        "                                   )\n",
        "train_generator = train_datagen.flow_from_directory(TRAINING_DIR,\n",
        "                                                    batch_size=32,\n",
        "                                                    class_mode='categorical',\n",
        "                                                    target_size=(160, 160))\n",
        "\n",
        "validation_datagen = ImageDataGenerator(rescale=1./255)\n",
        "validation_generator = validation_datagen.flow_from_directory(VALIDATION_DIR,\n",
        "                                                    batch_size=32,\n",
        "                                                    class_mode='categorical',\n",
        "                                                    target_size=(160, 160))"
      ]
    },
    {
      "cell_type": "code",
      "execution_count": 18,
      "metadata": {
        "colab": {
          "base_uri": "https://localhost:8080/"
        },
        "id": "Lh-Df7TAKYKD",
        "outputId": "5b48f1e9-eda7-4cc0-f304-cb8c239b563e"
      },
      "outputs": [
        {
          "output_type": "stream",
          "name": "stdout",
          "text": [
            "Downloading data from https://storage.googleapis.com/tensorflow/keras-applications/mobilenet_v2/mobilenet_v2_weights_tf_dim_ordering_tf_kernels_1.0_160_no_top.h5\n",
            "9406464/9406464 [==============================] - 1s 0us/step\n"
          ]
        }
      ],
      "source": [
        "base_model = tf.keras.applications.mobilenet_v2.MobileNetV2(weights = 'imagenet', include_top = False, input_shape =(160, 160, 3))"
      ]
    },
    {
      "cell_type": "code",
      "execution_count": 19,
      "metadata": {
        "id": "8dCoaKghMEWG"
      },
      "outputs": [],
      "source": [
        "base_model.trainable = False"
      ]
    },
    {
      "cell_type": "code",
      "execution_count": 58,
      "metadata": {
        "id": "adi1nCN6UK2P"
      },
      "outputs": [],
      "source": [
        "# x = base_model.output\n",
        "# x = tf.keras.layers.MaxPooling2D()(x)\n",
        "# x = Dense(256, activation='relu')(x)\n",
        "# predictions = Dense(10, activation='softmax')(x)\n",
        "\n",
        "model = tf.keras.Sequential([\n",
        "    base_model,\n",
        "    tf.keras.layers.MaxPooling2D(2,2),\n",
        "    tf.keras.layers.Flatten(),\n",
        "    tf.keras.layers.Dense(512, activation='relu'),\n",
        "    tf.keras.layers.Dense(10, activation='softmax')\n",
        "])\n"
      ]
    },
    {
      "cell_type": "code",
      "execution_count": null,
      "metadata": {
        "id": "A2BqxmFJUeIR"
      },
      "outputs": [],
      "source": [
        "# model = Model(inputs=base_model.input, outputs=predictions)"
      ]
    },
    {
      "cell_type": "code",
      "execution_count": 59,
      "metadata": {
        "colab": {
          "base_uri": "https://localhost:8080/"
        },
        "id": "4oqiBsag8aSQ",
        "outputId": "574fb417-fca3-4c92-f7c2-f525efe64e8b"
      },
      "outputs": [
        {
          "output_type": "stream",
          "name": "stdout",
          "text": [
            "Model: \"sequential_7\"\n",
            "_________________________________________________________________\n",
            " Layer (type)                Output Shape              Param #   \n",
            "=================================================================\n",
            " mobilenetv2_1.00_160 (Funct  (None, 5, 5, 1280)       2257984   \n",
            " ional)                                                          \n",
            "                                                                 \n",
            " max_pooling2d_7 (MaxPooling  (None, 2, 2, 1280)       0         \n",
            " 2D)                                                             \n",
            "                                                                 \n",
            " flatten_7 (Flatten)         (None, 5120)              0         \n",
            "                                                                 \n",
            " dense_35 (Dense)            (None, 512)               2621952   \n",
            "                                                                 \n",
            " dense_36 (Dense)            (None, 10)                5130      \n",
            "                                                                 \n",
            "=================================================================\n",
            "Total params: 4,885,066\n",
            "Trainable params: 2,627,082\n",
            "Non-trainable params: 2,257,984\n",
            "_________________________________________________________________\n"
          ]
        }
      ],
      "source": [
        "model.summary()"
      ]
    },
    {
      "cell_type": "code",
      "execution_count": 62,
      "metadata": {
        "id": "oVDJADWBVa5P"
      },
      "outputs": [],
      "source": [
        "model.compile(optimizer=tf.keras.optimizers.Adam(learning_rate =0.0001), loss='categorical_crossentropy', metrics=['accuracy'])"
      ]
    },
    {
      "cell_type": "code",
      "execution_count": 64,
      "metadata": {
        "id": "amEuhffwccgp"
      },
      "outputs": [],
      "source": [
        "class myCallback(tf.keras.callbacks.Callback):\n",
        "    def set_model(self, model):\n",
        "        self.model = model\n",
        "\n",
        "    def on_epoch_end(self, epoch, logs=None):\n",
        "        if logs['val_loss'] < 0.15:\n",
        "                self.model.stop_training = True\n",
        "\n",
        "my_callback = myCallback()"
      ]
    },
    {
      "cell_type": "code",
      "execution_count": 66,
      "metadata": {
        "colab": {
          "base_uri": "https://localhost:8080/"
        },
        "id": "8JBqZbEeVeH4",
        "outputId": "b3c14d1b-3810-46d8-8181-59ce6eccc31c"
      },
      "outputs": [
        {
          "output_type": "stream",
          "name": "stdout",
          "text": [
            "Epoch 1/10\n",
            "14/14 [==============================] - 17s 1s/step - loss: 0.0220 - accuracy: 0.9932 - val_loss: 0.2772 - val_accuracy: 0.9322\n",
            "Epoch 2/10\n",
            "14/14 [==============================] - 17s 1s/step - loss: 0.0191 - accuracy: 0.9909 - val_loss: 0.4870 - val_accuracy: 0.8983\n",
            "Epoch 3/10\n",
            "14/14 [==============================] - 16s 1s/step - loss: 0.0442 - accuracy: 0.9841 - val_loss: 0.4129 - val_accuracy: 0.8814\n",
            "Epoch 4/10\n",
            "14/14 [==============================] - 16s 1s/step - loss: 0.0354 - accuracy: 0.9863 - val_loss: 0.4903 - val_accuracy: 0.8475\n",
            "Epoch 5/10\n",
            "14/14 [==============================] - 16s 1s/step - loss: 0.0136 - accuracy: 0.9954 - val_loss: 0.3807 - val_accuracy: 0.8814\n",
            "Epoch 6/10\n",
            "14/14 [==============================] - 16s 1s/step - loss: 0.0119 - accuracy: 0.9977 - val_loss: 0.4173 - val_accuracy: 0.8814\n",
            "Epoch 7/10\n",
            "14/14 [==============================] - 15s 1s/step - loss: 0.0205 - accuracy: 0.9954 - val_loss: 0.3028 - val_accuracy: 0.9153\n",
            "Epoch 8/10\n",
            "14/14 [==============================] - 16s 1s/step - loss: 0.0153 - accuracy: 0.9977 - val_loss: 0.1807 - val_accuracy: 0.9661\n",
            "Epoch 9/10\n",
            "14/14 [==============================] - 16s 1s/step - loss: 0.0175 - accuracy: 0.9932 - val_loss: 0.2377 - val_accuracy: 0.8983\n",
            "Epoch 10/10\n",
            "14/14 [==============================] - 17s 1s/step - loss: 0.0113 - accuracy: 0.9977 - val_loss: 0.1732 - val_accuracy: 0.9661\n"
          ]
        }
      ],
      "source": [
        "history = model.fit(train_generator, epochs=10,\n",
        "                    validation_data=validation_generator,\n",
        "                    callbacks=[my_callback])\n"
      ]
    },
    {
      "cell_type": "code",
      "execution_count": 67,
      "metadata": {
        "id": "vSw5pzZaVg8A"
      },
      "outputs": [],
      "source": [
        "import matplotlib.pyplot as plt\n",
        "import numpy as np"
      ]
    },
    {
      "cell_type": "code",
      "execution_count": 69,
      "metadata": {
        "colab": {
          "base_uri": "https://localhost:8080/",
          "height": 430
        },
        "id": "jix0AsAzFmJ9",
        "outputId": "111b8a94-02a7-4d98-944f-841d14ceedd5"
      },
      "outputs": [
        {
          "output_type": "display_data",
          "data": {
            "text/plain": [
              "<Figure size 640x480 with 1 Axes>"
            ],
            "image/png": "[encoded data removed]"
          },
          "metadata": {}
        }
      ],
      "source": [
        "plt.plot(np.arange(len(history.history['loss'])), history.history['accuracy'])\n",
        "plt.plot(np.arange(len(history.history['loss'])), history.history['val_accuracy'])\n",
        "plt.legend(['acc', 'val_acc'])\n",
        "plt.show()"
      ]
    },
    {
      "cell_type": "code",
      "execution_count": 71,
      "metadata": {
        "id": "Vv-dZwG6Vv8D",
        "colab": {
          "base_uri": "https://localhost:8080/",
          "height": 430
        },
        "outputId": "64271a5b-2419-4a6b-b7bd-7a6441e1a2b7"
      },
      "outputs": [
        {
          "output_type": "display_data",
          "data": {
            "text/plain": [
              "<Figure size 640x480 with 1 Axes>"
            ],
            "image/png": "[encoded data removed]"
          },
          "metadata": {}
        }
      ],
      "source": [
        "plt.plot(np.arange(len(history.history['loss'])), history.history['loss'])\n",
        "plt.plot(np.arange(len(history.history['loss'])), history.history['val_loss'])\n",
        "plt.legend(['acc', 'val_loss'])\n",
        "plt.show()"
      ]
    },
    {
      "cell_type": "code",
      "execution_count": 72,
      "metadata": {
        "id": "XLgTc5qQWlqI"
      },
      "outputs": [],
      "source": [
        "from google.colab import files\n"
      ]
    },
    {
      "cell_type": "code",
      "execution_count": 73,
      "metadata": {
        "id": "FmNPYPN27RsL"
      },
      "outputs": [],
      "source": [
        "from PIL import Image\n",
        "import numpy as np"
      ]
    },
    {
      "cell_type": "code",
      "execution_count": 88,
      "metadata": {
        "id": "N1dTKvalWmvI",
        "colab": {
          "base_uri": "https://localhost:8080/",
          "height": 73
        },
        "outputId": "e883dc72-70c4-4251-9f9a-e6eef0f8179e"
      },
      "outputs": [
        {
          "output_type": "display_data",
          "data": {
            "text/plain": [
              "<IPython.core.display.HTML object>"
            ],
            "text/html": [
              "\n",
              "     <input type=\"file\" id=\"files-f46a54d3-9c09-459e-aefd-be8aeebe19ef\" name=\"files[]\" multiple disabled\n",
              "        style=\"border:none\" />\n",
              "     <output id=\"result-f46a54d3-9c09-459e-aefd-be8aeebe19ef\">\n",
              "      Upload widget is only available when the cell has been executed in the\n",
              "      current browser session. Please rerun this cell to enable.\n",
              "      </output>\n",
              "      <script>// Copyright 2017 Google LLC\n",
              "//\n",
              "// Licensed under the Apache License, Version 2.0 (the \"License\");\n",
              "// you may not use this file except in compliance with the License.\n",
              "// You may obtain a copy of the License at\n",
              "//\n",
              "//      http://www.apache.org/licenses/LICENSE-2.0\n",
              "//\n",
              "// Unless required by applicable law or agreed to in writing, software\n",
              "// distributed under the License is distributed on an \"AS IS\" BASIS,\n",
              "// WITHOUT WARRANTIES OR CONDITIONS OF ANY KIND, either express or implied.\n",
              "// See the License for the specific language governing permissions and\n",
              "// limitations under the License.\n",
              "\n",
              "/**\n",
              " * @fileoverview Helpers for google.colab Python module.\n",
              " */\n",
              "(function(scope) {\n",
              "function span(text, styleAttributes = {}) {\n",
              "  const element = document.createElement('span');\n",
              "  element.textContent = text;\n",
              "  for (const key of Object.keys(styleAttributes)) {\n",
              "    element.style[key] = styleAttributes[key];\n",
              "  }\n",
              "  return element;\n",
              "}\n",
              "\n",
              "// Max number of bytes which will be uploaded at a time.\n",
              "const MAX_PAYLOAD_SIZE = 100 * 1024;\n",
              "\n",
              "function _uploadFiles(inputId, outputId) {\n",
              "  const steps = uploadFilesStep(inputId, outputId);\n",
              "  const outputElement = document.getElementById(outputId);\n",
              "  // Cache steps on the outputElement to make it available for the next call\n",
              "  // to uploadFilesContinue from Python.\n",
              "  outputElement.steps = steps;\n",
              "\n",
              "  return _uploadFilesContinue(outputId);\n",
              "}\n",
              "\n",
              "// This is roughly an async generator (not supported in the browser yet),\n",
              "// where there are multiple asynchronous steps and the Python side is going\n",
              "// to poll for completion of each step.\n",
              "// This uses a Promise to block the python side on completion of each step,\n",
              "// then passes the result of the previous step as the input to the next step.\n",
              "function _uploadFilesContinue(outputId) {\n",
              "  const outputElement = document.getElementById(outputId);\n",
              "  const steps = outputElement.steps;\n",
              "\n",
              "  const next = steps.next(outputElement.lastPromiseValue);\n",
              "  return Promise.resolve(next.value.promise).then((value) => {\n",
              "    // Cache the last promise value to make it available to the next\n",
              "    // step of the generator.\n",
              "    outputElement.lastPromiseValue = value;\n",
              "    return next.value.response;\n",
              "  });\n",
              "}\n",
              "\n",
              "/**\n",
              " * Generator function which is called between each async step of the upload\n",
              " * process.\n",
              " * @param {string} inputId Element ID of the input file picker element.\n",
              " * @param {string} outputId Element ID of the output display.\n",
              " * @return {!Iterable<!Object>} Iterable of next steps.\n",
              " */\n",
              "function* uploadFilesStep(inputId, outputId) {\n",
              "  const inputElement = document.getElementById(inputId);\n",
              "  inputElement.disabled = false;\n",
              "\n",
              "  const outputElement = document.getElementById(outputId);\n",
              "  outputElement.innerHTML = '';\n",
              "\n",
              "  const pickedPromise = new Promise((resolve) => {\n",
              "    inputElement.addEventListener('change', (e) => {\n",
              "      resolve(e.target.files);\n",
              "    });\n",
              "  });\n",
              "\n",
              "  const cancel = document.createElement('button');\n",
              "  inputElement.parentElement.appendChild(cancel);\n",
              "  cancel.textContent = 'Cancel upload';\n",
              "  const cancelPromise = new Promise((resolve) => {\n",
              "    cancel.onclick = () => {\n",
              "      resolve(null);\n",
              "    };\n",
              "  });\n",
              "\n",
              "  // Wait for the user to pick the files.\n",
              "  const files = yield {\n",
              "    promise: Promise.race([pickedPromise, cancelPromise]),\n",
              "    response: {\n",
              "      action: 'starting',\n",
              "    }\n",
              "  };\n",
              "\n",
              "  cancel.remove();\n",
              "\n",
              "  // Disable the input element since further picks are not allowed.\n",
              "  inputElement.disabled = true;\n",
              "\n",
              "  if (!files) {\n",
              "    return {\n",
              "      response: {\n",
              "        action: 'complete',\n",
              "      }\n",
              "    };\n",
              "  }\n",
              "\n",
              "  for (const file of files) {\n",
              "    const li = document.createElement('li');\n",
              "    li.append(span(file.name, {fontWeight: 'bold'}));\n",
              "    li.append(span(\n",
              "        `(${file.type || 'n/a'}) - ${file.size} bytes, ` +\n",
              "        `last modified: ${\n",
              "            file.lastModifiedDate ? file.lastModifiedDate.toLocaleDateString() :\n",
              "                                    'n/a'} - `));\n",
              "    const percent = span('0% done');\n",
              "    li.appendChild(percent);\n",
              "\n",
              "    outputElement.appendChild(li);\n",
              "\n",
              "    const fileDataPromise = new Promise((resolve) => {\n",
              "      const reader = new FileReader();\n",
              "      reader.onload = (e) => {\n",
              "        resolve(e.target.result);\n",
              "      };\n",
              "      reader.readAsArrayBuffer(file);\n",
              "    });\n",
              "    // Wait for the data to be ready.\n",
              "    let fileData = yield {\n",
              "      promise: fileDataPromise,\n",
              "      response: {\n",
              "        action: 'continue',\n",
              "      }\n",
              "    };\n",
              "\n",
              "    // Use a chunked sending to avoid message size limits. See b/62115660.\n",
              "    let position = 0;\n",
              "    do {\n",
              "      const length = Math.min(fileData.byteLength - position, MAX_PAYLOAD_SIZE);\n",
              "      const chunk = new Uint8Array(fileData, position, length);\n",
              "      position += length;\n",
              "\n",
              "      const base64 = btoa(String.fromCharCode.apply(null, chunk));\n",
              "      yield {\n",
              "        response: {\n",
              "          action: 'append',\n",
              "          file: file.name,\n",
              "          data: base64,\n",
              "        },\n",
              "      };\n",
              "\n",
              "      let percentDone = fileData.byteLength === 0 ?\n",
              "          100 :\n",
              "          Math.round((position / fileData.byteLength) * 100);\n",
              "      percent.textContent = `${percentDone}% done`;\n",
              "\n",
              "    } while (position < fileData.byteLength);\n",
              "  }\n",
              "\n",
              "  // All done.\n",
              "  yield {\n",
              "    response: {\n",
              "      action: 'complete',\n",
              "    }\n",
              "  };\n",
              "}\n",
              "\n",
              "scope.google = scope.google || {};\n",
              "scope.google.colab = scope.google.colab || {};\n",
              "scope.google.colab._files = {\n",
              "  _uploadFiles,\n",
              "  _uploadFilesContinue,\n",
              "};\n",
              "})(self);\n",
              "</script> "
            ]
          },
          "metadata": {}
        },
        {
          "output_type": "stream",
          "name": "stdout",
          "text": [
            "Saving treadmill-49.jpeg to treadmill-49.jpeg\n"
          ]
        }
      ],
      "source": [
        "image = files.upload()"
      ]
    },
    {
      "cell_type": "code",
      "execution_count": 89,
      "metadata": {
        "id": "so0VFqpjXn5C"
      },
      "outputs": [],
      "source": [
        "for i in image.keys():\n",
        "  path = i"
      ]
    },
    {
      "cell_type": "code",
      "execution_count": 90,
      "metadata": {
        "id": "7BrrNmSMcTtp"
      },
      "outputs": [],
      "source": [
        "image = Image.open(i)\n",
        "image = np.asarray(image.resize((160, 160)))\n",
        "image = image/255\n",
        "image = np.expand_dims(image, 0)"
      ]
    },
    {
      "cell_type": "code",
      "execution_count": 91,
      "metadata": {
        "colab": {
          "base_uri": "https://localhost:8080/"
        },
        "id": "SLcnwPE2dhQG",
        "outputId": "357e032a-bf9f-4175-b6eb-e6635d3de7ea"
      },
      "outputs": [
        {
          "output_type": "stream",
          "name": "stdout",
          "text": [
            "1/1 [==============================] - 0s 173ms/step\n"
          ]
        }
      ],
      "source": [
        "result = np.argmax(model.predict(image))"
      ]
    },
    {
      "cell_type": "code",
      "execution_count": 92,
      "metadata": {
        "colab": {
          "base_uri": "https://localhost:8080/"
        },
        "id": "Mprn6KjQEok2",
        "outputId": "866336df-fd49-4494-8dff-ac24943adbaa"
      },
      "outputs": [
        {
          "output_type": "stream",
          "name": "stdout",
          "text": [
            "Treadmill\n"
          ]
        }
      ],
      "source": [
        "if result == 0:\n",
        "  print('Barbell')\n",
        "elif result == 1:\n",
        "  print('Dumbell')\n",
        "elif result == 2:\n",
        "  print('Gym ball')\n",
        "elif result == 3:\n",
        "  print('Kattle ball')\n",
        "elif result == 4:\n",
        "  print('Leg press')\n",
        "elif result == 5:\n",
        "  print('Punching bag')\n",
        "elif result == 6:\n",
        "  print('Roller ABS')\n",
        "elif result == 7:\n",
        "  print('Statis bicycle')\n",
        "elif result == 8:\n",
        "  print('Step')\n",
        "elif result == 9:\n",
        "  print('Treadmill')"
      ]
    },
    {
      "cell_type": "code",
      "execution_count": 93,
      "metadata": {
        "id": "V0Y1yjoRJOxH"
      },
      "outputs": [],
      "source": [
        "model.save('something.h5')"
      ]
    }
  ],
  "metadata": {
    "colab": {
      "provenance": []
    },
    "kernelspec": {
      "display_name": "Python 3",
      "name": "python3"
    },
    "language_info": {
      "name": "python"
    }
  },
  "nbformat": 4,
  "nbformat_minor": 0
}